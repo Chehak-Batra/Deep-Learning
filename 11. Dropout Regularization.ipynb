{
 "cells": [
  {
   "attachments": {},
   "cell_type": "markdown",
   "metadata": {},
   "source": [
    "## Regularization Technique: DropOut for Overfitting"
   ]
  },
  {
   "attachments": {},
   "cell_type": "markdown",
   "metadata": {},
   "source": [
    "Overfitting and Underfitting problems .... Regularization techniques tackle these problems"
   ]
  },
  {
   "attachments": {},
   "cell_type": "markdown",
   "metadata": {},
   "source": [
    "DropOut Regularization technique is used to handle overfitting problem"
   ]
  },
  {
   "attachments": {},
   "cell_type": "markdown",
   "metadata": {},
   "source": [
    "Method: Randomly drop neurons at a specific rate like 0.2 / 20% of neurons on each hidden layer"
   ]
  },
  {
   "attachments": {},
   "cell_type": "markdown",
   "metadata": {},
   "source": [
    "Reason: Neurons cant be biased with some features/ one input as it can be dropped"
   ]
  },
  {
   "attachments": {},
   "cell_type": "markdown",
   "metadata": {},
   "source": [
    "### Classification Model.... sonar signals bounced off by Rock(R) or Mettalic cylinder(M) data from UCI ML"
   ]
  },
  {
   "cell_type": "code",
   "execution_count": 25,
   "metadata": {},
   "outputs": [],
   "source": [
    "import numpy as np\n",
    "import pandas as pd\n",
    "from matplotlib import pyplot as plt\n",
    "import seaborn as sns "
   ]
  },
  {
   "attachments": {},
   "cell_type": "markdown",
   "metadata": {},
   "source": [
    "header none includes first row in data too.. mostly excluded as it has column headings"
   ]
  },
  {
   "cell_type": "code",
   "execution_count": 26,
   "metadata": {},
   "outputs": [
    {
     "data": {
      "text/html": [
       "<div>\n",
       "<style scoped>\n",
       "    .dataframe tbody tr th:only-of-type {\n",
       "        vertical-align: middle;\n",
       "    }\n",
       "\n",
       "    .dataframe tbody tr th {\n",
       "        vertical-align: top;\n",
       "    }\n",
       "\n",
       "    .dataframe thead th {\n",
       "        text-align: right;\n",
       "    }\n",
       "</style>\n",
       "<table border=\"1\" class=\"dataframe\">\n",
       "  <thead>\n",
       "    <tr style=\"text-align: right;\">\n",
       "      <th></th>\n",
       "      <th>0</th>\n",
       "      <th>1</th>\n",
       "      <th>2</th>\n",
       "      <th>3</th>\n",
       "      <th>4</th>\n",
       "      <th>5</th>\n",
       "      <th>6</th>\n",
       "      <th>7</th>\n",
       "      <th>8</th>\n",
       "      <th>9</th>\n",
       "      <th>...</th>\n",
       "      <th>51</th>\n",
       "      <th>52</th>\n",
       "      <th>53</th>\n",
       "      <th>54</th>\n",
       "      <th>55</th>\n",
       "      <th>56</th>\n",
       "      <th>57</th>\n",
       "      <th>58</th>\n",
       "      <th>59</th>\n",
       "      <th>60</th>\n",
       "    </tr>\n",
       "  </thead>\n",
       "  <tbody>\n",
       "    <tr>\n",
       "      <th>106</th>\n",
       "      <td>0.0331</td>\n",
       "      <td>0.0423</td>\n",
       "      <td>0.0474</td>\n",
       "      <td>0.0818</td>\n",
       "      <td>0.0835</td>\n",
       "      <td>0.0756</td>\n",
       "      <td>0.0374</td>\n",
       "      <td>0.0961</td>\n",
       "      <td>0.0548</td>\n",
       "      <td>0.0193</td>\n",
       "      <td>...</td>\n",
       "      <td>0.0078</td>\n",
       "      <td>0.0174</td>\n",
       "      <td>0.0176</td>\n",
       "      <td>0.0038</td>\n",
       "      <td>0.0129</td>\n",
       "      <td>0.0066</td>\n",
       "      <td>0.0044</td>\n",
       "      <td>0.0134</td>\n",
       "      <td>0.0092</td>\n",
       "      <td>M</td>\n",
       "    </tr>\n",
       "    <tr>\n",
       "      <th>86</th>\n",
       "      <td>0.0188</td>\n",
       "      <td>0.0370</td>\n",
       "      <td>0.0953</td>\n",
       "      <td>0.0824</td>\n",
       "      <td>0.0249</td>\n",
       "      <td>0.0488</td>\n",
       "      <td>0.1424</td>\n",
       "      <td>0.1972</td>\n",
       "      <td>0.1873</td>\n",
       "      <td>0.1806</td>\n",
       "      <td>...</td>\n",
       "      <td>0.0093</td>\n",
       "      <td>0.0033</td>\n",
       "      <td>0.0113</td>\n",
       "      <td>0.0030</td>\n",
       "      <td>0.0057</td>\n",
       "      <td>0.0090</td>\n",
       "      <td>0.0057</td>\n",
       "      <td>0.0068</td>\n",
       "      <td>0.0024</td>\n",
       "      <td>R</td>\n",
       "    </tr>\n",
       "    <tr>\n",
       "      <th>170</th>\n",
       "      <td>0.0134</td>\n",
       "      <td>0.0172</td>\n",
       "      <td>0.0178</td>\n",
       "      <td>0.0363</td>\n",
       "      <td>0.0444</td>\n",
       "      <td>0.0744</td>\n",
       "      <td>0.0800</td>\n",
       "      <td>0.0456</td>\n",
       "      <td>0.0368</td>\n",
       "      <td>0.1250</td>\n",
       "      <td>...</td>\n",
       "      <td>0.0094</td>\n",
       "      <td>0.0048</td>\n",
       "      <td>0.0047</td>\n",
       "      <td>0.0016</td>\n",
       "      <td>0.0008</td>\n",
       "      <td>0.0042</td>\n",
       "      <td>0.0024</td>\n",
       "      <td>0.0027</td>\n",
       "      <td>0.0041</td>\n",
       "      <td>M</td>\n",
       "    </tr>\n",
       "    <tr>\n",
       "      <th>42</th>\n",
       "      <td>0.0211</td>\n",
       "      <td>0.0319</td>\n",
       "      <td>0.0415</td>\n",
       "      <td>0.0286</td>\n",
       "      <td>0.0121</td>\n",
       "      <td>0.0438</td>\n",
       "      <td>0.1299</td>\n",
       "      <td>0.1390</td>\n",
       "      <td>0.0695</td>\n",
       "      <td>0.0568</td>\n",
       "      <td>...</td>\n",
       "      <td>0.0090</td>\n",
       "      <td>0.0042</td>\n",
       "      <td>0.0153</td>\n",
       "      <td>0.0106</td>\n",
       "      <td>0.0020</td>\n",
       "      <td>0.0105</td>\n",
       "      <td>0.0049</td>\n",
       "      <td>0.0070</td>\n",
       "      <td>0.0080</td>\n",
       "      <td>R</td>\n",
       "    </tr>\n",
       "    <tr>\n",
       "      <th>96</th>\n",
       "      <td>0.0181</td>\n",
       "      <td>0.0146</td>\n",
       "      <td>0.0026</td>\n",
       "      <td>0.0141</td>\n",
       "      <td>0.0421</td>\n",
       "      <td>0.0473</td>\n",
       "      <td>0.0361</td>\n",
       "      <td>0.0741</td>\n",
       "      <td>0.1398</td>\n",
       "      <td>0.1045</td>\n",
       "      <td>...</td>\n",
       "      <td>0.0223</td>\n",
       "      <td>0.0255</td>\n",
       "      <td>0.0145</td>\n",
       "      <td>0.0233</td>\n",
       "      <td>0.0041</td>\n",
       "      <td>0.0018</td>\n",
       "      <td>0.0048</td>\n",
       "      <td>0.0089</td>\n",
       "      <td>0.0085</td>\n",
       "      <td>R</td>\n",
       "    </tr>\n",
       "  </tbody>\n",
       "</table>\n",
       "<p>5 rows × 61 columns</p>\n",
       "</div>"
      ],
      "text/plain": [
       "         0       1       2       3       4       5       6       7       8    \n",
       "106  0.0331  0.0423  0.0474  0.0818  0.0835  0.0756  0.0374  0.0961  0.0548  \\\n",
       "86   0.0188  0.0370  0.0953  0.0824  0.0249  0.0488  0.1424  0.1972  0.1873   \n",
       "170  0.0134  0.0172  0.0178  0.0363  0.0444  0.0744  0.0800  0.0456  0.0368   \n",
       "42   0.0211  0.0319  0.0415  0.0286  0.0121  0.0438  0.1299  0.1390  0.0695   \n",
       "96   0.0181  0.0146  0.0026  0.0141  0.0421  0.0473  0.0361  0.0741  0.1398   \n",
       "\n",
       "         9   ...      51      52      53      54      55      56      57   \n",
       "106  0.0193  ...  0.0078  0.0174  0.0176  0.0038  0.0129  0.0066  0.0044  \\\n",
       "86   0.1806  ...  0.0093  0.0033  0.0113  0.0030  0.0057  0.0090  0.0057   \n",
       "170  0.1250  ...  0.0094  0.0048  0.0047  0.0016  0.0008  0.0042  0.0024   \n",
       "42   0.0568  ...  0.0090  0.0042  0.0153  0.0106  0.0020  0.0105  0.0049   \n",
       "96   0.1045  ...  0.0223  0.0255  0.0145  0.0233  0.0041  0.0018  0.0048   \n",
       "\n",
       "         58      59  60  \n",
       "106  0.0134  0.0092   M  \n",
       "86   0.0068  0.0024   R  \n",
       "170  0.0027  0.0041   M  \n",
       "42   0.0070  0.0080   R  \n",
       "96   0.0089  0.0085   R  \n",
       "\n",
       "[5 rows x 61 columns]"
      ]
     },
     "execution_count": 26,
     "metadata": {},
     "output_type": "execute_result"
    }
   ],
   "source": [
    "import warnings\n",
    "warnings.filterwarnings('ignore')\n",
    "\n",
    "df=pd.read_csv(\"./sonar_dataset.csv\", header=None)\n",
    "df.sample(5)"
   ]
  },
  {
   "cell_type": "code",
   "execution_count": 27,
   "metadata": {},
   "outputs": [
    {
     "data": {
      "text/plain": [
       "(208, 61)"
      ]
     },
     "execution_count": 27,
     "metadata": {},
     "output_type": "execute_result"
    }
   ],
   "source": [
    "df.shape"
   ]
  },
  {
   "attachments": {},
   "cell_type": "markdown",
   "metadata": {},
   "source": [
    "No null column value"
   ]
  },
  {
   "cell_type": "code",
   "execution_count": 28,
   "metadata": {},
   "outputs": [
    {
     "data": {
      "text/plain": [
       "0     0\n",
       "1     0\n",
       "2     0\n",
       "3     0\n",
       "4     0\n",
       "     ..\n",
       "56    0\n",
       "57    0\n",
       "58    0\n",
       "59    0\n",
       "60    0\n",
       "Length: 61, dtype: int64"
      ]
     },
     "execution_count": 28,
     "metadata": {},
     "output_type": "execute_result"
    }
   ],
   "source": [
    "df.isna().sum()"
   ]
  },
  {
   "cell_type": "code",
   "execution_count": 29,
   "metadata": {},
   "outputs": [
    {
     "data": {
      "text/plain": [
       "60\n",
       "M    111\n",
       "R     97\n",
       "Name: count, dtype: int64"
      ]
     },
     "execution_count": 29,
     "metadata": {},
     "output_type": "execute_result"
    }
   ],
   "source": [
    "df[60].value_counts()"
   ]
  },
  {
   "cell_type": "code",
   "execution_count": 30,
   "metadata": {},
   "outputs": [
    {
     "data": {
      "text/plain": [
       "0    R\n",
       "1    R\n",
       "2    R\n",
       "3    R\n",
       "4    R\n",
       "Name: 60, dtype: object"
      ]
     },
     "execution_count": 30,
     "metadata": {},
     "output_type": "execute_result"
    }
   ],
   "source": [
    "X=df.drop(60, axis='columns')\n",
    "y=df[60]\n",
    "y.head()"
   ]
  },
  {
   "cell_type": "code",
   "execution_count": 31,
   "metadata": {},
   "outputs": [
    {
     "data": {
      "text/html": [
       "<div>\n",
       "<style scoped>\n",
       "    .dataframe tbody tr th:only-of-type {\n",
       "        vertical-align: middle;\n",
       "    }\n",
       "\n",
       "    .dataframe tbody tr th {\n",
       "        vertical-align: top;\n",
       "    }\n",
       "\n",
       "    .dataframe thead th {\n",
       "        text-align: right;\n",
       "    }\n",
       "</style>\n",
       "<table border=\"1\" class=\"dataframe\">\n",
       "  <thead>\n",
       "    <tr style=\"text-align: right;\">\n",
       "      <th></th>\n",
       "      <th>R</th>\n",
       "    </tr>\n",
       "  </thead>\n",
       "  <tbody>\n",
       "    <tr>\n",
       "      <th>92</th>\n",
       "      <td>1</td>\n",
       "    </tr>\n",
       "    <tr>\n",
       "      <th>78</th>\n",
       "      <td>1</td>\n",
       "    </tr>\n",
       "    <tr>\n",
       "      <th>152</th>\n",
       "      <td>0</td>\n",
       "    </tr>\n",
       "    <tr>\n",
       "      <th>88</th>\n",
       "      <td>1</td>\n",
       "    </tr>\n",
       "    <tr>\n",
       "      <th>42</th>\n",
       "      <td>1</td>\n",
       "    </tr>\n",
       "  </tbody>\n",
       "</table>\n",
       "</div>"
      ],
      "text/plain": [
       "     R\n",
       "92   1\n",
       "78   1\n",
       "152  0\n",
       "88   1\n",
       "42   1"
      ]
     },
     "execution_count": 31,
     "metadata": {},
     "output_type": "execute_result"
    }
   ],
   "source": [
    "y=pd.get_dummies(y, drop_first=True, dtype=int)\n",
    "y.sample(5)"
   ]
  },
  {
   "cell_type": "code",
   "execution_count": 32,
   "metadata": {},
   "outputs": [
    {
     "data": {
      "text/plain": [
       "R\n",
       "0    111\n",
       "1     97\n",
       "Name: count, dtype: int64"
      ]
     },
     "execution_count": 32,
     "metadata": {},
     "output_type": "execute_result"
    }
   ],
   "source": [
    "y.value_counts()"
   ]
  },
  {
   "cell_type": "code",
   "execution_count": 33,
   "metadata": {},
   "outputs": [],
   "source": [
    "from sklearn.model_selection import train_test_split\n",
    "X_train, X_test, y_train, y_test = train_test_split(X, y, test_size=0.2, random_state=1)"
   ]
  },
  {
   "cell_type": "code",
   "execution_count": 34,
   "metadata": {},
   "outputs": [
    {
     "data": {
      "text/plain": [
       "((166, 60), (42, 60))"
      ]
     },
     "execution_count": 34,
     "metadata": {},
     "output_type": "execute_result"
    }
   ],
   "source": [
    "X_train.shape, X_test.shape"
   ]
  },
  {
   "cell_type": "code",
   "execution_count": 35,
   "metadata": {},
   "outputs": [
    {
     "name": "stdout",
     "output_type": "stream",
     "text": [
      "Epoch 1/50\n"
     ]
    },
    {
     "name": "stdout",
     "output_type": "stream",
     "text": [
      "21/21 [==============================] - 4s 4ms/step - loss: 0.6989 - accuracy: 0.5181\n",
      "Epoch 2/50\n",
      "21/21 [==============================] - 0s 6ms/step - loss: 0.6765 - accuracy: 0.5843\n",
      "Epoch 3/50\n",
      "21/21 [==============================] - 0s 5ms/step - loss: 0.6580 - accuracy: 0.6386\n",
      "Epoch 4/50\n",
      "21/21 [==============================] - 0s 6ms/step - loss: 0.6293 - accuracy: 0.6867\n",
      "Epoch 5/50\n",
      "21/21 [==============================] - 0s 5ms/step - loss: 0.5904 - accuracy: 0.7108\n",
      "Epoch 6/50\n",
      "21/21 [==============================] - 0s 4ms/step - loss: 0.5420 - accuracy: 0.7711\n",
      "Epoch 7/50\n",
      "21/21 [==============================] - 0s 5ms/step - loss: 0.5591 - accuracy: 0.6988\n",
      "Epoch 8/50\n",
      "21/21 [==============================] - 0s 11ms/step - loss: 0.4795 - accuracy: 0.8133\n",
      "Epoch 9/50\n",
      "21/21 [==============================] - 0s 7ms/step - loss: 0.4485 - accuracy: 0.7711\n",
      "Epoch 10/50\n",
      "21/21 [==============================] - 0s 3ms/step - loss: 0.4331 - accuracy: 0.7771\n",
      "Epoch 11/50\n",
      "21/21 [==============================] - 0s 3ms/step - loss: 0.3919 - accuracy: 0.8072\n",
      "Epoch 12/50\n",
      "21/21 [==============================] - 0s 4ms/step - loss: 0.3739 - accuracy: 0.8434\n",
      "Epoch 13/50\n",
      "21/21 [==============================] - 0s 3ms/step - loss: 0.3675 - accuracy: 0.8554\n",
      "Epoch 14/50\n",
      "21/21 [==============================] - 0s 4ms/step - loss: 0.3278 - accuracy: 0.8675\n",
      "Epoch 15/50\n",
      "21/21 [==============================] - 0s 4ms/step - loss: 0.3411 - accuracy: 0.8554\n",
      "Epoch 16/50\n",
      "21/21 [==============================] - 0s 6ms/step - loss: 0.3424 - accuracy: 0.8253\n",
      "Epoch 17/50\n",
      "21/21 [==============================] - 0s 6ms/step - loss: 0.2908 - accuracy: 0.8735\n",
      "Epoch 18/50\n",
      "21/21 [==============================] - 0s 6ms/step - loss: 0.2886 - accuracy: 0.8916\n",
      "Epoch 19/50\n",
      "21/21 [==============================] - 0s 5ms/step - loss: 0.2738 - accuracy: 0.8855\n",
      "Epoch 20/50\n",
      "21/21 [==============================] - 0s 5ms/step - loss: 0.2667 - accuracy: 0.8976\n",
      "Epoch 21/50\n",
      "21/21 [==============================] - 0s 4ms/step - loss: 0.2628 - accuracy: 0.9036\n",
      "Epoch 22/50\n",
      "21/21 [==============================] - 0s 4ms/step - loss: 0.2567 - accuracy: 0.9036\n",
      "Epoch 23/50\n",
      "21/21 [==============================] - 0s 4ms/step - loss: 0.2533 - accuracy: 0.8795\n",
      "Epoch 24/50\n",
      "21/21 [==============================] - 0s 4ms/step - loss: 0.2041 - accuracy: 0.9518\n",
      "Epoch 25/50\n",
      "21/21 [==============================] - 0s 4ms/step - loss: 0.1958 - accuracy: 0.9518\n",
      "Epoch 26/50\n",
      "21/21 [==============================] - 0s 4ms/step - loss: 0.1935 - accuracy: 0.9458\n",
      "Epoch 27/50\n",
      "21/21 [==============================] - 0s 4ms/step - loss: 0.1860 - accuracy: 0.9578\n",
      "Epoch 28/50\n",
      "21/21 [==============================] - 0s 4ms/step - loss: 0.1647 - accuracy: 0.9458\n",
      "Epoch 29/50\n",
      "21/21 [==============================] - 0s 4ms/step - loss: 0.1698 - accuracy: 0.9277\n",
      "Epoch 30/50\n",
      "21/21 [==============================] - 0s 4ms/step - loss: 0.1500 - accuracy: 0.9578\n",
      "Epoch 31/50\n",
      "21/21 [==============================] - 0s 4ms/step - loss: 0.1376 - accuracy: 0.9578\n",
      "Epoch 32/50\n",
      "21/21 [==============================] - 0s 4ms/step - loss: 0.1319 - accuracy: 0.9578\n",
      "Epoch 33/50\n",
      "21/21 [==============================] - 0s 4ms/step - loss: 0.1137 - accuracy: 0.9639\n",
      "Epoch 34/50\n",
      "21/21 [==============================] - 0s 4ms/step - loss: 0.1299 - accuracy: 0.9518\n",
      "Epoch 35/50\n",
      "21/21 [==============================] - 0s 5ms/step - loss: 0.1182 - accuracy: 0.9759\n",
      "Epoch 36/50\n",
      "21/21 [==============================] - 0s 4ms/step - loss: 0.1167 - accuracy: 0.9578\n",
      "Epoch 37/50\n",
      "21/21 [==============================] - 0s 4ms/step - loss: 0.0992 - accuracy: 0.9699\n",
      "Epoch 38/50\n",
      "21/21 [==============================] - 0s 4ms/step - loss: 0.0851 - accuracy: 0.9759\n",
      "Epoch 39/50\n",
      "21/21 [==============================] - 0s 4ms/step - loss: 0.0866 - accuracy: 0.9759\n",
      "Epoch 40/50\n",
      "21/21 [==============================] - 0s 6ms/step - loss: 0.0756 - accuracy: 0.9819\n",
      "Epoch 41/50\n",
      "21/21 [==============================] - 0s 6ms/step - loss: 0.0702 - accuracy: 0.9819\n",
      "Epoch 42/50\n",
      "21/21 [==============================] - 0s 5ms/step - loss: 0.0664 - accuracy: 0.9880\n",
      "Epoch 43/50\n",
      "21/21 [==============================] - 0s 5ms/step - loss: 0.0652 - accuracy: 0.9880\n",
      "Epoch 44/50\n",
      "21/21 [==============================] - 0s 5ms/step - loss: 0.0841 - accuracy: 0.9759\n",
      "Epoch 45/50\n",
      "21/21 [==============================] - 0s 4ms/step - loss: 0.0718 - accuracy: 0.9819\n",
      "Epoch 46/50\n",
      "21/21 [==============================] - 0s 23ms/step - loss: 0.0528 - accuracy: 0.9940\n",
      "Epoch 47/50\n",
      "21/21 [==============================] - 0s 11ms/step - loss: 0.0427 - accuracy: 1.0000\n",
      "Epoch 48/50\n",
      "21/21 [==============================] - 0s 4ms/step - loss: 0.0375 - accuracy: 1.0000\n",
      "Epoch 49/50\n",
      "21/21 [==============================] - 0s 5ms/step - loss: 0.0351 - accuracy: 0.9940\n",
      "Epoch 50/50\n",
      "21/21 [==============================] - 0s 5ms/step - loss: 0.0359 - accuracy: 0.9940\n"
     ]
    },
    {
     "data": {
      "text/plain": [
       "<keras.callbacks.History at 0x1438170d4e0>"
      ]
     },
     "execution_count": 35,
     "metadata": {},
     "output_type": "execute_result"
    }
   ],
   "source": [
    "import tensorflow as tf\n",
    "from tensorflow import keras\n",
    "\n",
    "model = keras.Sequential([\n",
    "    keras.layers.Dense(60, input_dim=60, activation='relu'),\n",
    "    keras.layers.Dense(30, activation='relu'),\n",
    "    keras.layers.Dense(15, activation='relu'),\n",
    "    keras.layers.Dense(1, activation='sigmoid')\n",
    "])\n",
    "\n",
    "model.compile(\n",
    "    optimizer='adam',\n",
    "    loss='binary_crossentropy',\n",
    "    metrics=['accuracy']\n",
    ")\n",
    "\n",
    "model.fit(X_train, y_train, epochs=50, batch_size=8)"
   ]
  },
  {
   "cell_type": "code",
   "execution_count": 36,
   "metadata": {},
   "outputs": [
    {
     "name": "stdout",
     "output_type": "stream",
     "text": [
      "2/2 [==============================] - 1s 17ms/step - loss: 0.8244 - accuracy: 0.7619\n"
     ]
    },
    {
     "data": {
      "text/plain": [
       "[0.8244196772575378, 0.761904776096344]"
      ]
     },
     "execution_count": 36,
     "metadata": {},
     "output_type": "execute_result"
    }
   ],
   "source": [
    "model.evaluate(X_test, y_test)"
   ]
  },
  {
   "cell_type": "code",
   "execution_count": 37,
   "metadata": {},
   "outputs": [
    {
     "name": "stdout",
     "output_type": "stream",
     "text": [
      "2/2 [==============================] - 0s 5ms/step\n",
      "[[5.0145486e-06]\n",
      " [9.3116659e-01]\n",
      " [9.5306867e-01]\n",
      " [2.6696322e-03]\n",
      " [9.9997377e-01]\n",
      " [9.8468268e-01]\n",
      " [1.7496736e-01]\n",
      " [9.9997568e-01]\n",
      " [1.0567951e-03]\n",
      " [9.9999154e-01]]\n",
      "[[0.]\n",
      " [1.]\n",
      " [1.]\n",
      " [0.]\n",
      " [1.]\n",
      " [1.]\n",
      " [0.]\n",
      " [1.]\n",
      " [0.]\n",
      " [1.]]\n"
     ]
    }
   ],
   "source": [
    "y_pred = model.predict(X_test)\n",
    "print(y_pred[:10])\n",
    "\n",
    "y_pred = np.round(y_pred)\n",
    "print(y_pred[:10])"
   ]
  },
  {
   "cell_type": "code",
   "execution_count": 38,
   "metadata": {},
   "outputs": [
    {
     "name": "stdout",
     "output_type": "stream",
     "text": [
      "     R\n",
      "186  0\n",
      "155  0\n",
      "165  0\n",
      "200  0\n",
      "58   1\n",
      "34   1\n",
      "151  0\n",
      "18   1\n",
      "202  0\n",
      "62   1\n"
     ]
    }
   ],
   "source": [
    "print(y_test[:10])"
   ]
  },
  {
   "cell_type": "code",
   "execution_count": 39,
   "metadata": {},
   "outputs": [
    {
     "name": "stdout",
     "output_type": "stream",
     "text": [
      "              precision    recall  f1-score   support\n",
      "\n",
      "           0       0.71      0.85      0.77        20\n",
      "           1       0.83      0.68      0.75        22\n",
      "\n",
      "    accuracy                           0.76        42\n",
      "   macro avg       0.77      0.77      0.76        42\n",
      "weighted avg       0.77      0.76      0.76        42\n",
      "\n"
     ]
    }
   ],
   "source": [
    "from sklearn.metrics import confusion_matrix, classification_report\n",
    "\n",
    "print(classification_report(y_test, y_pred))"
   ]
  },
  {
   "attachments": {},
   "cell_type": "markdown",
   "metadata": {},
   "source": [
    "Dropout layer reducing training accuracy but improves test accuracy"
   ]
  },
  {
   "cell_type": "code",
   "execution_count": 44,
   "metadata": {},
   "outputs": [
    {
     "name": "stdout",
     "output_type": "stream",
     "text": [
      "Epoch 1/50\n",
      "21/21 [==============================] - 3s 5ms/step - loss: 0.7120 - accuracy: 0.5301\n",
      "Epoch 2/50\n",
      "21/21 [==============================] - 0s 6ms/step - loss: 0.6844 - accuracy: 0.5964\n",
      "Epoch 3/50\n",
      "21/21 [==============================] - 0s 7ms/step - loss: 0.7191 - accuracy: 0.5241\n",
      "Epoch 4/50\n",
      "21/21 [==============================] - 0s 7ms/step - loss: 0.7072 - accuracy: 0.5181\n",
      "Epoch 5/50\n",
      "21/21 [==============================] - 0s 7ms/step - loss: 0.6873 - accuracy: 0.5301\n",
      "Epoch 6/50\n",
      "21/21 [==============================] - 0s 6ms/step - loss: 0.6817 - accuracy: 0.5783\n",
      "Epoch 7/50\n",
      "21/21 [==============================] - 0s 7ms/step - loss: 0.6843 - accuracy: 0.5241\n",
      "Epoch 8/50\n",
      "21/21 [==============================] - 0s 5ms/step - loss: 0.6860 - accuracy: 0.5723\n",
      "Epoch 9/50\n",
      "21/21 [==============================] - 0s 8ms/step - loss: 0.6749 - accuracy: 0.5723\n",
      "Epoch 10/50\n",
      "21/21 [==============================] - 0s 6ms/step - loss: 0.6971 - accuracy: 0.5241\n",
      "Epoch 11/50\n",
      "21/21 [==============================] - 0s 5ms/step - loss: 0.6914 - accuracy: 0.5361\n",
      "Epoch 12/50\n",
      "21/21 [==============================] - 0s 7ms/step - loss: 0.6897 - accuracy: 0.5301\n",
      "Epoch 13/50\n",
      "21/21 [==============================] - 0s 6ms/step - loss: 0.6845 - accuracy: 0.5422\n",
      "Epoch 14/50\n",
      "21/21 [==============================] - 0s 5ms/step - loss: 0.6735 - accuracy: 0.5783\n",
      "Epoch 15/50\n",
      "21/21 [==============================] - 0s 7ms/step - loss: 0.6713 - accuracy: 0.5361\n",
      "Epoch 16/50\n",
      "21/21 [==============================] - 0s 8ms/step - loss: 0.6777 - accuracy: 0.5964\n",
      "Epoch 17/50\n",
      "21/21 [==============================] - 0s 9ms/step - loss: 0.6850 - accuracy: 0.6084\n",
      "Epoch 18/50\n",
      "21/21 [==============================] - 0s 6ms/step - loss: 0.6649 - accuracy: 0.5783\n",
      "Epoch 19/50\n",
      "21/21 [==============================] - 0s 6ms/step - loss: 0.6948 - accuracy: 0.5843\n",
      "Epoch 20/50\n",
      "21/21 [==============================] - 0s 7ms/step - loss: 0.6581 - accuracy: 0.5904\n",
      "Epoch 21/50\n",
      "21/21 [==============================] - 0s 11ms/step - loss: 0.6695 - accuracy: 0.5602\n",
      "Epoch 22/50\n",
      "21/21 [==============================] - 0s 9ms/step - loss: 0.6573 - accuracy: 0.6145\n",
      "Epoch 23/50\n",
      "21/21 [==============================] - 0s 8ms/step - loss: 0.6555 - accuracy: 0.6145\n",
      "Epoch 24/50\n",
      "21/21 [==============================] - 0s 6ms/step - loss: 0.6377 - accuracy: 0.6627\n",
      "Epoch 25/50\n",
      "21/21 [==============================] - 0s 6ms/step - loss: 0.6510 - accuracy: 0.5904\n",
      "Epoch 26/50\n",
      "21/21 [==============================] - 0s 6ms/step - loss: 0.6656 - accuracy: 0.5542\n",
      "Epoch 27/50\n",
      "21/21 [==============================] - 0s 6ms/step - loss: 0.6411 - accuracy: 0.6205\n",
      "Epoch 28/50\n",
      "21/21 [==============================] - 0s 6ms/step - loss: 0.6544 - accuracy: 0.6084\n",
      "Epoch 29/50\n",
      "21/21 [==============================] - 0s 6ms/step - loss: 0.6365 - accuracy: 0.6024\n",
      "Epoch 30/50\n",
      "21/21 [==============================] - 0s 7ms/step - loss: 0.6194 - accuracy: 0.6325\n",
      "Epoch 31/50\n",
      "21/21 [==============================] - 0s 8ms/step - loss: 0.6101 - accuracy: 0.7229\n",
      "Epoch 32/50\n",
      "21/21 [==============================] - 0s 6ms/step - loss: 0.6389 - accuracy: 0.6506\n",
      "Epoch 33/50\n",
      "21/21 [==============================] - 0s 6ms/step - loss: 0.6159 - accuracy: 0.6687\n",
      "Epoch 34/50\n",
      "21/21 [==============================] - 0s 6ms/step - loss: 0.5729 - accuracy: 0.7349\n",
      "Epoch 35/50\n",
      "21/21 [==============================] - 0s 7ms/step - loss: 0.6035 - accuracy: 0.6867\n",
      "Epoch 36/50\n",
      "21/21 [==============================] - 0s 6ms/step - loss: 0.5816 - accuracy: 0.6867\n",
      "Epoch 37/50\n",
      "21/21 [==============================] - 0s 6ms/step - loss: 0.5459 - accuracy: 0.7289\n",
      "Epoch 38/50\n",
      "21/21 [==============================] - 0s 8ms/step - loss: 0.5537 - accuracy: 0.7530\n",
      "Epoch 39/50\n",
      "21/21 [==============================] - 0s 4ms/step - loss: 0.5787 - accuracy: 0.7169\n",
      "Epoch 40/50\n",
      "21/21 [==============================] - 0s 6ms/step - loss: 0.6141 - accuracy: 0.6627\n",
      "Epoch 41/50\n",
      "21/21 [==============================] - 0s 6ms/step - loss: 0.5648 - accuracy: 0.7349\n",
      "Epoch 42/50\n",
      "21/21 [==============================] - 0s 6ms/step - loss: 0.5502 - accuracy: 0.7771\n",
      "Epoch 43/50\n",
      "21/21 [==============================] - 0s 7ms/step - loss: 0.5220 - accuracy: 0.7711\n",
      "Epoch 44/50\n",
      "21/21 [==============================] - 0s 6ms/step - loss: 0.5106 - accuracy: 0.7410\n",
      "Epoch 45/50\n",
      "21/21 [==============================] - 0s 6ms/step - loss: 0.4981 - accuracy: 0.7651\n",
      "Epoch 46/50\n",
      "21/21 [==============================] - 0s 6ms/step - loss: 0.5731 - accuracy: 0.6928\n",
      "Epoch 47/50\n",
      "21/21 [==============================] - 0s 6ms/step - loss: 0.5140 - accuracy: 0.7169\n",
      "Epoch 48/50\n",
      "21/21 [==============================] - 0s 6ms/step - loss: 0.5204 - accuracy: 0.7229\n",
      "Epoch 49/50\n",
      "21/21 [==============================] - 0s 6ms/step - loss: 0.5126 - accuracy: 0.7289\n",
      "Epoch 50/50\n",
      "21/21 [==============================] - 0s 6ms/step - loss: 0.4837 - accuracy: 0.7831\n"
     ]
    },
    {
     "data": {
      "text/plain": [
       "<keras.callbacks.History at 0x1438386ae60>"
      ]
     },
     "execution_count": 44,
     "metadata": {},
     "output_type": "execute_result"
    }
   ],
   "source": [
    "modeld = keras.Sequential([\n",
    "    keras.layers.Dense(60, input_dim=60, activation='relu'),\n",
    "    keras.layers.Dropout(0.5),\n",
    "    keras.layers.Dense(30, activation='relu'),\n",
    "    keras.layers.Dropout(0.5),\n",
    "    keras.layers.Dense(15, activation='relu'),\n",
    "    keras.layers.Dropout(0.5),\n",
    "    keras.layers.Dense(1, activation='sigmoid')\n",
    "])\n",
    "\n",
    "modeld.compile(\n",
    "    optimizer='adam',\n",
    "    loss='binary_crossentropy',\n",
    "    metrics=['accuracy']\n",
    ")\n",
    "\n",
    "modeld.fit(X_train, y_train, epochs=50, batch_size=8)"
   ]
  },
  {
   "cell_type": "code",
   "execution_count": 45,
   "metadata": {},
   "outputs": [
    {
     "name": "stdout",
     "output_type": "stream",
     "text": [
      "WARNING:tensorflow:6 out of the last 11 calls to <function Model.make_test_function.<locals>.test_function at 0x0000014383763910> triggered tf.function retracing. Tracing is expensive and the excessive number of tracings could be due to (1) creating @tf.function repeatedly in a loop, (2) passing tensors with different shapes, (3) passing Python objects instead of tensors. For (1), please define your @tf.function outside of the loop. For (2), @tf.function has reduce_retracing=True option that can avoid unnecessary retracing. For (3), please refer to https://www.tensorflow.org/guide/function#controlling_retracing and https://www.tensorflow.org/api_docs/python/tf/function for  more details.\n",
      "2/2 [==============================] - 0s 13ms/step - loss: 0.4837 - accuracy: 0.7381\n"
     ]
    },
    {
     "data": {
      "text/plain": [
       "[0.48373281955718994, 0.738095223903656]"
      ]
     },
     "execution_count": 45,
     "metadata": {},
     "output_type": "execute_result"
    }
   ],
   "source": [
    "modeld.evaluate(X_test,y_test)"
   ]
  },
  {
   "attachments": {},
   "cell_type": "markdown",
   "metadata": {},
   "source": [
    "reshape(-1) unknown dimention"
   ]
  },
  {
   "cell_type": "code",
   "execution_count": 46,
   "metadata": {},
   "outputs": [
    {
     "name": "stdout",
     "output_type": "stream",
     "text": [
      "2/2 [==============================] - 0s 5ms/step\n"
     ]
    }
   ],
   "source": [
    "y_predd = modeld.predict(X_test).reshape(-1)\n",
    "y_predd = np.round(y_predd)"
   ]
  },
  {
   "cell_type": "code",
   "execution_count": 47,
   "metadata": {},
   "outputs": [
    {
     "name": "stdout",
     "output_type": "stream",
     "text": [
      "              precision    recall  f1-score   support\n",
      "\n",
      "           0       0.70      0.80      0.74        20\n",
      "           1       0.79      0.68      0.73        22\n",
      "\n",
      "    accuracy                           0.74        42\n",
      "   macro avg       0.74      0.74      0.74        42\n",
      "weighted avg       0.74      0.74      0.74        42\n",
      "\n"
     ]
    }
   ],
   "source": [
    "from sklearn.metrics import classification_report\n",
    "\n",
    "print(classification_report(y_test, y_predd))"
   ]
  }
 ],
 "metadata": {
  "kernelspec": {
   "display_name": "Python 3",
   "language": "python",
   "name": "python3"
  },
  "language_info": {
   "codemirror_mode": {
    "name": "ipython",
    "version": 3
   },
   "file_extension": ".py",
   "mimetype": "text/x-python",
   "name": "python",
   "nbconvert_exporter": "python",
   "pygments_lexer": "ipython3",
   "version": "3.10.11"
  },
  "orig_nbformat": 4
 },
 "nbformat": 4,
 "nbformat_minor": 2
}
